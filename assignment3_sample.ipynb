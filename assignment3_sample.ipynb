{
  "cells": [
    {
      "cell_type": "markdown",
      "metadata": {
        "id": "view-in-github",
        "colab_type": "text"
      },
      "source": [
        "<a href=\"https://colab.research.google.com/github/THH1118/-1-/blob/main/assignment3_sample.ipynb\" target=\"_parent\"><img src=\"https://colab.research.google.com/assets/colab-badge.svg\" alt=\"Open In Colab\"/></a>"
      ]
    },
    {
      "cell_type": "code",
      "execution_count": null,
      "metadata": {
        "colab": {
          "base_uri": "https://localhost:8080/"
        },
        "id": "IgXafma7FkpJ",
        "outputId": "b8efc56b-47f6-4a4f-9722-331c3b46f784"
      },
      "outputs": [
        {
          "output_type": "stream",
          "name": "stdout",
          "text": [
            "Requirement already satisfied: datasets==2.21.0 in /usr/local/lib/python3.10/dist-packages (2.21.0)\n",
            "Requirement already satisfied: filelock in /usr/local/lib/python3.10/dist-packages (from datasets==2.21.0) (3.16.1)\n",
            "Requirement already satisfied: numpy>=1.17 in /usr/local/lib/python3.10/dist-packages (from datasets==2.21.0) (1.26.4)\n",
            "Requirement already satisfied: pyarrow>=15.0.0 in /usr/local/lib/python3.10/dist-packages (from datasets==2.21.0) (17.0.0)\n",
            "Requirement already satisfied: dill<0.3.9,>=0.3.0 in /usr/local/lib/python3.10/dist-packages (from datasets==2.21.0) (0.3.8)\n",
            "Requirement already satisfied: pandas in /usr/local/lib/python3.10/dist-packages (from datasets==2.21.0) (2.2.2)\n",
            "Requirement already satisfied: requests>=2.32.2 in /usr/local/lib/python3.10/dist-packages (from datasets==2.21.0) (2.32.3)\n",
            "Requirement already satisfied: tqdm>=4.66.3 in /usr/local/lib/python3.10/dist-packages (from datasets==2.21.0) (4.66.6)\n",
            "Requirement already satisfied: xxhash in /usr/local/lib/python3.10/dist-packages (from datasets==2.21.0) (3.5.0)\n",
            "Requirement already satisfied: multiprocess in /usr/local/lib/python3.10/dist-packages (from datasets==2.21.0) (0.70.16)\n",
            "Requirement already satisfied: fsspec<=2024.6.1,>=2023.1.0 in /usr/local/lib/python3.10/dist-packages (from fsspec[http]<=2024.6.1,>=2023.1.0->datasets==2.21.0) (2024.6.1)\n",
            "Requirement already satisfied: aiohttp in /usr/local/lib/python3.10/dist-packages (from datasets==2.21.0) (3.10.10)\n",
            "Requirement already satisfied: huggingface-hub>=0.21.2 in /usr/local/lib/python3.10/dist-packages (from datasets==2.21.0) (0.24.7)\n",
            "Requirement already satisfied: packaging in /usr/local/lib/python3.10/dist-packages (from datasets==2.21.0) (24.1)\n",
            "Requirement already satisfied: pyyaml>=5.1 in /usr/local/lib/python3.10/dist-packages (from datasets==2.21.0) (6.0.2)\n",
            "Requirement already satisfied: aiohappyeyeballs>=2.3.0 in /usr/local/lib/python3.10/dist-packages (from aiohttp->datasets==2.21.0) (2.4.3)\n",
            "Requirement already satisfied: aiosignal>=1.1.2 in /usr/local/lib/python3.10/dist-packages (from aiohttp->datasets==2.21.0) (1.3.1)\n",
            "Requirement already satisfied: attrs>=17.3.0 in /usr/local/lib/python3.10/dist-packages (from aiohttp->datasets==2.21.0) (24.2.0)\n",
            "Requirement already satisfied: frozenlist>=1.1.1 in /usr/local/lib/python3.10/dist-packages (from aiohttp->datasets==2.21.0) (1.5.0)\n",
            "Requirement already satisfied: multidict<7.0,>=4.5 in /usr/local/lib/python3.10/dist-packages (from aiohttp->datasets==2.21.0) (6.1.0)\n",
            "Requirement already satisfied: yarl<2.0,>=1.12.0 in /usr/local/lib/python3.10/dist-packages (from aiohttp->datasets==2.21.0) (1.17.0)\n",
            "Requirement already satisfied: async-timeout<5.0,>=4.0 in /usr/local/lib/python3.10/dist-packages (from aiohttp->datasets==2.21.0) (4.0.3)\n",
            "Requirement already satisfied: typing-extensions>=3.7.4.3 in /usr/local/lib/python3.10/dist-packages (from huggingface-hub>=0.21.2->datasets==2.21.0) (4.12.2)\n",
            "Requirement already satisfied: charset-normalizer<4,>=2 in /usr/local/lib/python3.10/dist-packages (from requests>=2.32.2->datasets==2.21.0) (3.4.0)\n",
            "Requirement already satisfied: idna<4,>=2.5 in /usr/local/lib/python3.10/dist-packages (from requests>=2.32.2->datasets==2.21.0) (3.10)\n",
            "Requirement already satisfied: urllib3<3,>=1.21.1 in /usr/local/lib/python3.10/dist-packages (from requests>=2.32.2->datasets==2.21.0) (2.2.3)\n",
            "Requirement already satisfied: certifi>=2017.4.17 in /usr/local/lib/python3.10/dist-packages (from requests>=2.32.2->datasets==2.21.0) (2024.8.30)\n",
            "Requirement already satisfied: python-dateutil>=2.8.2 in /usr/local/lib/python3.10/dist-packages (from pandas->datasets==2.21.0) (2.8.2)\n",
            "Requirement already satisfied: pytz>=2020.1 in /usr/local/lib/python3.10/dist-packages (from pandas->datasets==2.21.0) (2024.2)\n",
            "Requirement already satisfied: tzdata>=2022.7 in /usr/local/lib/python3.10/dist-packages (from pandas->datasets==2.21.0) (2024.2)\n",
            "Requirement already satisfied: six>=1.5 in /usr/local/lib/python3.10/dist-packages (from python-dateutil>=2.8.2->pandas->datasets==2.21.0) (1.16.0)\n",
            "Requirement already satisfied: propcache>=0.2.0 in /usr/local/lib/python3.10/dist-packages (from yarl<2.0,>=1.12.0->aiohttp->datasets==2.21.0) (0.2.0)\n",
            "Requirement already satisfied: torchmetrics in /usr/local/lib/python3.10/dist-packages (1.5.2)\n",
            "Requirement already satisfied: numpy>1.20.0 in /usr/local/lib/python3.10/dist-packages (from torchmetrics) (1.26.4)\n",
            "Requirement already satisfied: packaging>17.1 in /usr/local/lib/python3.10/dist-packages (from torchmetrics) (24.1)\n",
            "Requirement already satisfied: torch>=1.10.0 in /usr/local/lib/python3.10/dist-packages (from torchmetrics) (2.5.0+cu121)\n",
            "Requirement already satisfied: lightning-utilities>=0.8.0 in /usr/local/lib/python3.10/dist-packages (from torchmetrics) (0.11.8)\n",
            "Requirement already satisfied: setuptools in /usr/local/lib/python3.10/dist-packages (from lightning-utilities>=0.8.0->torchmetrics) (75.1.0)\n",
            "Requirement already satisfied: typing-extensions in /usr/local/lib/python3.10/dist-packages (from lightning-utilities>=0.8.0->torchmetrics) (4.12.2)\n",
            "Requirement already satisfied: filelock in /usr/local/lib/python3.10/dist-packages (from torch>=1.10.0->torchmetrics) (3.16.1)\n",
            "Requirement already satisfied: networkx in /usr/local/lib/python3.10/dist-packages (from torch>=1.10.0->torchmetrics) (3.4.2)\n",
            "Requirement already satisfied: jinja2 in /usr/local/lib/python3.10/dist-packages (from torch>=1.10.0->torchmetrics) (3.1.4)\n",
            "Requirement already satisfied: fsspec in /usr/local/lib/python3.10/dist-packages (from torch>=1.10.0->torchmetrics) (2024.6.1)\n",
            "Requirement already satisfied: sympy==1.13.1 in /usr/local/lib/python3.10/dist-packages (from torch>=1.10.0->torchmetrics) (1.13.1)\n",
            "Requirement already satisfied: mpmath<1.4,>=1.1.0 in /usr/local/lib/python3.10/dist-packages (from sympy==1.13.1->torch>=1.10.0->torchmetrics) (1.3.0)\n",
            "Requirement already satisfied: MarkupSafe>=2.0 in /usr/local/lib/python3.10/dist-packages (from jinja2->torch>=1.10.0->torchmetrics) (3.0.2)\n"
          ]
        }
      ],
      "source": [
        "import transformers as T\n",
        "!pip install datasets==2.21.0\n",
        "import datasets\n",
        "from datasets import load_dataset\n",
        "import torch\n",
        "from torch.utils.data import Dataset, DataLoader\n",
        "from torch.optim import AdamW\n",
        "from tqdm import tqdm\n",
        "!pip install torchmetrics\n",
        "import torchmetrics\n",
        "from torchmetrics import SpearmanCorrCoef, Accuracy, F1Score\n",
        "pearson_corr = torchmetrics.PearsonCorrCoef()\n",
        "device = \"cuda:0\" if torch.cuda.is_available() else \"cpu\""
      ]
    },
    {
      "cell_type": "code",
      "execution_count": null,
      "metadata": {
        "colab": {
          "base_uri": "https://localhost:8080/"
        },
        "id": "XMh6cIALgFSL",
        "outputId": "1455ef5a-2d13-4149-cdef-5f6bdfff21ab"
      },
      "outputs": [
        {
          "output_type": "stream",
          "name": "stdout",
          "text": [
            "2.21.0\n"
          ]
        }
      ],
      "source": [
        "print(datasets.__version__)"
      ]
    },
    {
      "cell_type": "code",
      "execution_count": null,
      "metadata": {
        "id": "u0w2n1t4FkpL"
      },
      "outputs": [],
      "source": [
        "# 有些中文的標點符號在tokenizer編碼以後會變成[UNK]，所以將其換成英文標點\n",
        "token_replacement = [\n",
        "    [\"：\" , \":\"],\n",
        "    [\"，\" , \",\"],\n",
        "    [\"“\" , \"\\\"\"],\n",
        "    [\"”\" , \"\\\"\"],\n",
        "    [\"？\" , \"?\"],\n",
        "    [\"……\" , \"...\"],\n",
        "    [\"！\" , \"!\"]\n",
        "]"
      ]
    },
    {
      "cell_type": "code",
      "execution_count": null,
      "metadata": {
        "colab": {
          "base_uri": "https://localhost:8080/"
        },
        "id": "WAs7QUV7FkpL",
        "outputId": "90ceb58c-a7b7-4733-fe48-5afd882e36ee"
      },
      "outputs": [
        {
          "output_type": "stream",
          "name": "stderr",
          "text": [
            "/usr/local/lib/python3.10/dist-packages/transformers/tokenization_utils_base.py:1601: FutureWarning: `clean_up_tokenization_spaces` was not set. It will be set to `True` by default. This behavior will be depracted in transformers v4.45, and will be then set to `False` by default. For more details check this issue: https://github.com/huggingface/transformers/issues/31884\n",
            "  warnings.warn(\n"
          ]
        }
      ],
      "source": [
        "model = MultiLabelModel().to(device)\n",
        "tokenizer = T.BertTokenizer.from_pretrained(\"google-bert/bert-base-uncased\", cache_dir=\"./cache/\")"
      ]
    },
    {
      "cell_type": "code",
      "execution_count": null,
      "metadata": {
        "colab": {
          "base_uri": "https://localhost:8080/"
        },
        "id": "KoHb3y6ZFkpL",
        "outputId": "60067f66-d9c2-4783-a202-1f5258b30211"
      },
      "outputs": [
        {
          "output_type": "stream",
          "name": "stdout",
          "text": [
            "Dataset example: \n",
            "{'sentence_pair_id': 1, 'premise': 'A group of kids is playing in a yard and an old man is standing in the background', 'hypothesis': 'A group of boys in a yard is playing and a man is standing in the background', 'relatedness_score': 4.5, 'entailment_judgment': 0} \n",
            "{'sentence_pair_id': 2, 'premise': 'A group of children is playing in the house and there is no man standing in the background', 'hypothesis': 'A group of kids is playing in a yard and an old man is standing in the background', 'relatedness_score': 3.200000047683716, 'entailment_judgment': 0} \n",
            "{'sentence_pair_id': 3, 'premise': 'The young boys are playing outdoors and the man is smiling nearby', 'hypothesis': 'The kids are playing outdoors near a man with a smile', 'relatedness_score': 4.699999809265137, 'entailment_judgment': 1}\n"
          ]
        }
      ],
      "source": [
        "class SemevalDataset(Dataset):\n",
        "    def __init__(self, split=\"train\") -> None:\n",
        "        super().__init__()\n",
        "        assert split in [\"train\", \"validation\"]\n",
        "        self.data = load_dataset(\n",
        "            \"sem_eval_2014_task_1\", split=split, cache_dir=\"./cache/\"\n",
        "        ).to_list()\n",
        "\n",
        "    def __getitem__(self, index):\n",
        "        d = self.data[index]\n",
        "        # 把中文標點替換掉\n",
        "        for k in [\"premise\", \"hypothesis\"]:\n",
        "            for tok in token_replacement:\n",
        "                d[k] = d[k].replace(tok[0], tok[1])\n",
        "        return d\n",
        "\n",
        "    def __len__(self):\n",
        "        return len(self.data)\n",
        "\n",
        "data_sample = SemevalDataset(split=\"train\").data[:3]\n",
        "print(f\"Dataset example: \\n{data_sample[0]} \\n{data_sample[1]} \\n{data_sample[2]}\")"
      ]
    },
    {
      "cell_type": "code",
      "execution_count": null,
      "metadata": {
        "id": "p0wCdgOrFkpL"
      },
      "outputs": [],
      "source": [
        "# Define the hyperparameters\n",
        "lr = 3e-5\n",
        "epochs = 3\n",
        "train_batch_size = 8\n",
        "validation_batch_size = 8"
      ]
    },
    {
      "cell_type": "code",
      "execution_count": null,
      "metadata": {
        "id": "0gg-PkItFkpM"
      },
      "outputs": [],
      "source": [
        "# TODO1: Create batched data for DataLoader\n",
        "# `collate_fn` is a function that defines how the data batch should be packed.\n",
        "# This function will be called in the DataLoader to pack the data batch.\n",
        "\n",
        "def collate_fn(batch):\n",
        "    # TODO1-1: Implement the collate_fn function\n",
        "    # Write your code here\n",
        "\n",
        "\n",
        "    # 定義如何將批次數據轉換為張量\n",
        "    premises = [item[\"premise\"] for item in batch]\n",
        "    hypotheses = [item[\"hypothesis\"] for item in batch]\n",
        "    relatedness_scores = [item[\"relatedness_score\"] for item in batch]\n",
        "    entailment_judgments = [item[\"entailment_judgment\"] for item in batch]\n",
        "\n",
        "     # 使用 tokenizer 將批次數據轉換成模型輸入格式\n",
        "    inputs = tokenizer(\n",
        "        premises,\n",
        "        hypotheses,\n",
        "        padding=True,  # 填充到相同長度\n",
        "        truncation=True,  # 截斷長度過長的句子\n",
        "        return_tensors=\"pt\"  # 返回 PyTorch 張量\n",
        "    )\n",
        "\n",
        "    # 將標籤轉換成張量\n",
        "    relatedness_scores = torch.tensor(relatedness_scores, dtype=torch.float32)  # 連續值的回歸標籤\n",
        "    entailment_judgments = torch.tensor(entailment_judgments, dtype=torch.long)  # 離散值的分類標籤\n",
        "\n",
        "    # 返回處理後的批次數據\n",
        "    return inputs, relatedness_scores, entailment_judgments\n",
        "\n",
        "\n",
        "    # The input parameter is a data batch (tuple), and this function packs it into tensors.\n",
        "    # Use tokenizer to pack tokenize and pack the data and its corresponding labels.\n",
        "    # Return the data batch and labels for each sub-task.\n",
        "\n",
        "# TODO1-2: Define your DataLoader\n",
        "\n",
        "# 創建訓練集的 DataLoader\n",
        "train_dataset = SemevalDataset(split=\"train\")\n",
        "dl_train = DataLoader(\n",
        "    train_dataset,\n",
        "    batch_size=train_batch_size,\n",
        "    shuffle=True,\n",
        "    collate_fn=collate_fn\n",
        ")\n",
        "\n",
        "# 創建驗證集的 DataLoader\n",
        "validation_dataset = SemevalDataset(split=\"validation\")\n",
        "dl_validation = DataLoader(\n",
        "    validation_dataset,\n",
        "    batch_size=validation_batch_size,\n",
        "    shuffle=False,\n",
        "    collate_fn=collate_fn\n",
        ")"
      ]
    },
    {
      "cell_type": "code",
      "execution_count": null,
      "metadata": {
        "colab": {
          "base_uri": "https://localhost:8080/"
        },
        "id": "kdfHFh1UiUwr",
        "outputId": "bc57e89b-f991-4189-e021-3ae81834a489"
      },
      "outputs": [
        {
          "output_type": "stream",
          "name": "stdout",
          "text": [
            "({'input_ids': tensor([[  101,  2093,  2111,  2024,  3061,  2011,  1037,  6847,  2104,  2070,\n",
            "          5340,  3628,   102,  2093,  2111,  2024,  3564,  2006,  1037,  6847,\n",
            "          2104,  2070,  5340,  3628,   102,     0,     0,     0,     0,     0,\n",
            "             0,     0,     0,     0,     0,     0,     0,     0],\n",
            "        [  101,  1037,  2158,  1998,  1037,  2450,  2024,  2770,  2362,  1998,\n",
            "          3173,  2398,   102,  1037,  2158,  1998,  1037,  2450,  2024,  3061,\n",
            "          2362,  1998,  3173,  2398,   102,     0,     0,     0,     0,     0,\n",
            "             0,     0,     0,     0,     0,     0,     0,     0],\n",
            "        [  101,  1037,  2158,  2003,  2652,  1996,  3846,   102,  2858,  2003,\n",
            "          2108,  2209,  2011,  1037,  2158,   102,     0,     0,     0,     0,\n",
            "             0,     0,     0,     0,     0,     0,     0,     0,     0,     0,\n",
            "             0,     0,     0,     0,     0,     0,     0,     0],\n",
            "        [  101,  2093,  2273,  2024,  3564,  2006,  1037,  4020,  5178,  1998,\n",
            "          2559,  2012,  1996,  3193,  2007,  1037,  3940,  1997, 29549,   102,\n",
            "          2093,  2273,  2024,  3564,  2006,  1037,  2940,  1998,  2559,  2012,\n",
            "          1996,  4020,  1998,  3712,   102,     0,     0,     0],\n",
            "        [  101,  1037,  3899,  1010,  2029,  2003,  2304,  1010,  1998,  1037,\n",
            "          2317,  2028,  2024,  4582,  2012,  2169,  2060,  1999,  1996,  2395,\n",
            "           102,  2028,  2317,  3899,  2003,  4582,  2012,  1996,  2304,  2395,\n",
            "           102,     0,     0,     0,     0,     0,     0,     0],\n",
            "        [  101,  1037,  2158,  1998,  1037,  2450,  2024,  3788, 19957,   102,\n",
            "          1037,  2158,  1998,  1037,  2450,  2024,  3788,   102,     0,     0,\n",
            "             0,     0,     0,     0,     0,     0,     0,     0,     0,     0,\n",
            "             0,     0,     0,     0,     0,     0,     0,     0],\n",
            "        [  101,  1037,  2177,  1997,  4268,  2003,  2652,  1999,  1037,  4220,\n",
            "          1998,  2019,  2214,  2158,  2003,  3061,  1999,  1996,  4281,   102,\n",
            "          1037,  2177,  1997,  3337,  1999,  1037,  4220,  2003,  2652,  1998,\n",
            "          1037,  2158,  2003,  3061,  1999,  1996,  4281,   102],\n",
            "        [  101,  1037,  2158,  2003,  2652,  1037,  8928,   102,  1037,  8928,\n",
            "          2003,  2108,  2209,  2011,  1037,  2158,   102,     0,     0,     0,\n",
            "             0,     0,     0,     0,     0,     0,     0,     0,     0,     0,\n",
            "             0,     0,     0,     0,     0,     0,     0,     0]]), 'token_type_ids': tensor([[0, 0, 0, 0, 0, 0, 0, 0, 0, 0, 0, 0, 0, 1, 1, 1, 1, 1, 1, 1, 1, 1, 1, 1,\n",
            "         1, 0, 0, 0, 0, 0, 0, 0, 0, 0, 0, 0, 0, 0],\n",
            "        [0, 0, 0, 0, 0, 0, 0, 0, 0, 0, 0, 0, 0, 1, 1, 1, 1, 1, 1, 1, 1, 1, 1, 1,\n",
            "         1, 0, 0, 0, 0, 0, 0, 0, 0, 0, 0, 0, 0, 0],\n",
            "        [0, 0, 0, 0, 0, 0, 0, 0, 1, 1, 1, 1, 1, 1, 1, 1, 0, 0, 0, 0, 0, 0, 0, 0,\n",
            "         0, 0, 0, 0, 0, 0, 0, 0, 0, 0, 0, 0, 0, 0],\n",
            "        [0, 0, 0, 0, 0, 0, 0, 0, 0, 0, 0, 0, 0, 0, 0, 0, 0, 0, 0, 0, 1, 1, 1, 1,\n",
            "         1, 1, 1, 1, 1, 1, 1, 1, 1, 1, 1, 0, 0, 0],\n",
            "        [0, 0, 0, 0, 0, 0, 0, 0, 0, 0, 0, 0, 0, 0, 0, 0, 0, 0, 0, 0, 0, 1, 1, 1,\n",
            "         1, 1, 1, 1, 1, 1, 1, 0, 0, 0, 0, 0, 0, 0],\n",
            "        [0, 0, 0, 0, 0, 0, 0, 0, 0, 0, 1, 1, 1, 1, 1, 1, 1, 1, 0, 0, 0, 0, 0, 0,\n",
            "         0, 0, 0, 0, 0, 0, 0, 0, 0, 0, 0, 0, 0, 0],\n",
            "        [0, 0, 0, 0, 0, 0, 0, 0, 0, 0, 0, 0, 0, 0, 0, 0, 0, 0, 0, 0, 1, 1, 1, 1,\n",
            "         1, 1, 1, 1, 1, 1, 1, 1, 1, 1, 1, 1, 1, 1],\n",
            "        [0, 0, 0, 0, 0, 0, 0, 0, 1, 1, 1, 1, 1, 1, 1, 1, 1, 0, 0, 0, 0, 0, 0, 0,\n",
            "         0, 0, 0, 0, 0, 0, 0, 0, 0, 0, 0, 0, 0, 0]]), 'attention_mask': tensor([[1, 1, 1, 1, 1, 1, 1, 1, 1, 1, 1, 1, 1, 1, 1, 1, 1, 1, 1, 1, 1, 1, 1, 1,\n",
            "         1, 0, 0, 0, 0, 0, 0, 0, 0, 0, 0, 0, 0, 0],\n",
            "        [1, 1, 1, 1, 1, 1, 1, 1, 1, 1, 1, 1, 1, 1, 1, 1, 1, 1, 1, 1, 1, 1, 1, 1,\n",
            "         1, 0, 0, 0, 0, 0, 0, 0, 0, 0, 0, 0, 0, 0],\n",
            "        [1, 1, 1, 1, 1, 1, 1, 1, 1, 1, 1, 1, 1, 1, 1, 1, 0, 0, 0, 0, 0, 0, 0, 0,\n",
            "         0, 0, 0, 0, 0, 0, 0, 0, 0, 0, 0, 0, 0, 0],\n",
            "        [1, 1, 1, 1, 1, 1, 1, 1, 1, 1, 1, 1, 1, 1, 1, 1, 1, 1, 1, 1, 1, 1, 1, 1,\n",
            "         1, 1, 1, 1, 1, 1, 1, 1, 1, 1, 1, 0, 0, 0],\n",
            "        [1, 1, 1, 1, 1, 1, 1, 1, 1, 1, 1, 1, 1, 1, 1, 1, 1, 1, 1, 1, 1, 1, 1, 1,\n",
            "         1, 1, 1, 1, 1, 1, 1, 0, 0, 0, 0, 0, 0, 0],\n",
            "        [1, 1, 1, 1, 1, 1, 1, 1, 1, 1, 1, 1, 1, 1, 1, 1, 1, 1, 0, 0, 0, 0, 0, 0,\n",
            "         0, 0, 0, 0, 0, 0, 0, 0, 0, 0, 0, 0, 0, 0],\n",
            "        [1, 1, 1, 1, 1, 1, 1, 1, 1, 1, 1, 1, 1, 1, 1, 1, 1, 1, 1, 1, 1, 1, 1, 1,\n",
            "         1, 1, 1, 1, 1, 1, 1, 1, 1, 1, 1, 1, 1, 1],\n",
            "        [1, 1, 1, 1, 1, 1, 1, 1, 1, 1, 1, 1, 1, 1, 1, 1, 1, 0, 0, 0, 0, 0, 0, 0,\n",
            "         0, 0, 0, 0, 0, 0, 0, 0, 0, 0, 0, 0, 0, 0]])}, tensor([3.6000, 3.6000, 3.4150, 3.7000, 3.1000, 4.9000, 4.5000, 4.8000]), tensor([0, 0, 0, 0, 0, 1, 0, 1]))\n"
          ]
        }
      ],
      "source": [
        "print(next(iter(dl_train)))"
      ]
    },
    {
      "cell_type": "code",
      "execution_count": null,
      "metadata": {
        "id": "94--RbhgFkpM"
      },
      "outputs": [],
      "source": [
        "# TODO2: Construct your model\n",
        "class MultiLabelModel(torch.nn.Module):\n",
        "\n",
        "\n",
        "    def __init__(self, *args, **kwargs):\n",
        "        super().__init__(*args, **kwargs)\n",
        "\n",
        "        # 載入 BERT 基礎模型\n",
        "        self.bert = T.BertModel.from_pretrained(\"google-bert/bert-base-uncased\")\n",
        "\n",
        "        # 線性層 1：用於回歸任務（預測 relatedness_score）\n",
        "        self.regression_head = torch.nn.Linear(self.bert.config.hidden_size, 1)\n",
        "\n",
        "        # 線性層 2：用於 3 類分類任務（預測 entailment_judgement）\n",
        "        self.classification_head = torch.nn.Linear(self.bert.config.hidden_size, 3)\n",
        "\n",
        "\n",
        "        # Write your code here\n",
        "        # Define what modules you will use in the model\n",
        "    def forward(self, **kwargs):\n",
        "\n",
        "        # Write your code here\n",
        "        # Forward pass\n",
        "\n",
        "        # BERT 前向傳遞，返回最後一層隱藏狀態\n",
        "        bert_outputs = self.bert(input_ids=input_ids, attention_mask=attention_mask)\n",
        "\n",
        "        # 使用 BERT 的 [CLS] token 的隱藏向量作為輸出\n",
        "        cls_output = bert_outputs.last_hidden_state[:, 0, :]\n",
        "\n",
        "        # 回歸頭：預測 relatedness_score\n",
        "        relatedness_score = self.regression_head(cls_output)\n",
        "\n",
        "        # 分類頭：預測 entailment_judgement\n",
        "        entailment_judgement = self.classification_head(cls_output)\n",
        "\n",
        "        return relatedness_score, entailment_judgement\n"
      ]
    },
    {
      "cell_type": "code",
      "execution_count": null,
      "metadata": {
        "id": "WkjjNkidFkpM"
      },
      "outputs": [],
      "source": [
        "# TODO3: Define your optimizer and loss function\n",
        "\n",
        "# TODO3-1: Define your Optimizer\n",
        "\n",
        "optimizer = AdamW(model.parameters(), lr=lr)# Write your code here\n",
        "\n",
        "# TODO3-2: Define your loss functions (you should have two)\n",
        "\n",
        "regression_loss_fn = torch.nn.MSELoss()  # 用於回歸的損失函數\n",
        "classification_loss_fn = torch.nn.CrossEntropyLoss()  # 用於分類的損失函數\n",
        "\n",
        "# Write your code here\n",
        "\n",
        "# scoring functions\n",
        "spc = SpearmanCorrCoef()\n",
        "acc = Accuracy(task=\"multiclass\", num_classes=3)\n",
        "f1 = F1Score(task=\"multiclass\", num_classes=3, average='macro')"
      ]
    },
    {
      "cell_type": "code",
      "execution_count": null,
      "metadata": {
        "colab": {
          "base_uri": "https://localhost:8080/"
        },
        "id": "E7yrjrkgFkpM",
        "outputId": "7d6edda4-3a97-46dd-e8ef-862d1e910805"
      },
      "outputs": [
        {
          "output_type": "stream",
          "name": "stderr",
          "text": [
            "Training epoch [1/3]: 100%|██████████| 563/563 [00:22<00:00, 24.63it/s, loss=0.164]\n"
          ]
        },
        {
          "output_type": "stream",
          "name": "stdout",
          "text": [
            "Epoch [1/3] - Average Loss: 0.2520\n"
          ]
        },
        {
          "output_type": "stream",
          "name": "stderr",
          "text": [
            "Validation epoch [1/3]: 100%|██████████| 63/63 [00:01<00:00, 58.69it/s]\n"
          ]
        },
        {
          "output_type": "stream",
          "name": "stdout",
          "text": [
            "Validation Results - Epoch [1/3]\n",
            "Spearman Correlation: 0.8166\n",
            "Pearson Correlation: 0.9986\n",
            "Accuracy: 1.0000\n",
            "F1 Score: 1.0000\n"
          ]
        },
        {
          "output_type": "stream",
          "name": "stderr",
          "text": [
            "Training epoch [2/3]: 100%|██████████| 563/563 [00:22<00:00, 24.55it/s, loss=0.0121]\n"
          ]
        },
        {
          "output_type": "stream",
          "name": "stdout",
          "text": [
            "Epoch [2/3] - Average Loss: 0.2339\n"
          ]
        },
        {
          "output_type": "stream",
          "name": "stderr",
          "text": [
            "Validation epoch [2/3]: 100%|██████████| 63/63 [00:01<00:00, 60.52it/s]\n"
          ]
        },
        {
          "output_type": "stream",
          "name": "stdout",
          "text": [
            "Validation Results - Epoch [2/3]\n",
            "Spearman Correlation: 0.8188\n",
            "Pearson Correlation: 0.9977\n",
            "Accuracy: 1.0000\n",
            "F1 Score: 1.0000\n"
          ]
        },
        {
          "output_type": "stream",
          "name": "stderr",
          "text": [
            "Training epoch [3/3]: 100%|██████████| 563/563 [00:22<00:00, 24.65it/s, loss=0.308]\n"
          ]
        },
        {
          "output_type": "stream",
          "name": "stdout",
          "text": [
            "Epoch [3/3] - Average Loss: 0.1868\n"
          ]
        },
        {
          "output_type": "stream",
          "name": "stderr",
          "text": [
            "Validation epoch [3/3]: 100%|██████████| 63/63 [00:01<00:00, 61.02it/s]\n"
          ]
        },
        {
          "output_type": "stream",
          "name": "stdout",
          "text": [
            "Validation Results - Epoch [3/3]\n",
            "Spearman Correlation: 0.8078\n",
            "Pearson Correlation: 0.9974\n",
            "Accuracy: 1.0000\n",
            "F1 Score: 1.0000\n"
          ]
        }
      ],
      "source": [
        "for ep in range(epochs):\n",
        "    pbar = tqdm(dl_train)\n",
        "    pbar.set_description(f\"Training epoch [{ep+1}/{epochs}]\")\n",
        "    model.train()\n",
        "    # TODO4: Write the training loop\n",
        "    # Write your code here\n",
        "    # train your model\n",
        "    # clear gradient\n",
        "    # forward pass\n",
        "    # compute loss\n",
        "    # back-propagation\n",
        "    # model optimization\n",
        "\n",
        "\n",
        "    total_loss = 0\n",
        "    for batch in pbar:\n",
        "        # 從 DataLoader 中獲取批次資料\n",
        "        input_ids = batch[0][\"input_ids\"].to(device)\n",
        "        attention_mask = batch[0][\"attention_mask\"].to(device)\n",
        "        relatedness_score = batch[1].to(device)         # relatedness_score 標籤\n",
        "        entailment_judgement = batch[2].to(device)      # entailment_judgement 標籤\n",
        "\n",
        "        # TODO4: 清除梯度\n",
        "        optimizer.zero_grad()\n",
        "\n",
        "        # TODO4: 前向傳遞\n",
        "        pred_relatedness, pred_entailment = model(input_ids=input_ids, attention_mask=attention_mask)\n",
        "\n",
        "        # TODO4: 計算損失\n",
        "        loss_relatedness = regression_loss_fn(pred_relatedness.squeeze(), relatedness_score.float())\n",
        "        loss_entailment = classification_loss_fn(pred_entailment, entailment_judgement.long())\n",
        "\n",
        "        # 聚合損失\n",
        "        loss = loss_relatedness + loss_entailment\n",
        "        total_loss += loss.item()\n",
        "\n",
        "        # TODO4: 反向傳播\n",
        "        loss.backward()\n",
        "\n",
        "        # TODO4: 優化模型\n",
        "        optimizer.step()\n",
        "\n",
        "        # 更新進度條的損失顯示\n",
        "        pbar.set_postfix({\"loss\": loss.item()})\n",
        "\n",
        "    # 每個 epoch 結束後，輸出平均損失\n",
        "    avg_loss = total_loss / len(dl_train)\n",
        "    print(f\"Epoch [{ep+1}/{epochs}] - Average Loss: {avg_loss:.4f}\")\n",
        "\n",
        "    #eval\n",
        "\n",
        "    pbar = tqdm(dl_validation)\n",
        "    pbar.set_description(f\"Validation epoch [{ep+1}/{epochs}]\")\n",
        "    model.eval()\n",
        "\n",
        "    # TODO5: Write the evaluation loop\n",
        "    # Write your code here\n",
        "    # Evaluate your model\n",
        "    # Output all the evaluation scores (SpearmanCorrCoef, Accuracy, F1Score)\n",
        "\n",
        "\n",
        "    spearman_corr = SpearmanCorrCoef()\n",
        "    pearson_corr = torchmetrics.PearsonCorrCoef()  # 使用 torchmetrics 的 Pearson\n",
        "    acc = Accuracy(task=\"multiclass\", num_classes=3)\n",
        "    f1 = F1Score(task=\"multiclass\", num_classes=3, average='macro')\n",
        "\n",
        "    with torch.no_grad():\n",
        "        for batch in pbar:\n",
        "            input_ids = batch[0][\"input_ids\"].to(device)\n",
        "            attention_mask = batch[0][\"attention_mask\"].to(device)\n",
        "            relatedness_score = batch[1].to(device)\n",
        "            entailment_judgement = batch[2].to(device)\n",
        "            # 前向傳遞\n",
        "            pred_relatedness, pred_entailment = model(input_ids=input_ids, attention_mask=attention_mask)\n",
        "\n",
        "            # 相關係數計算\n",
        "            spearman_corr.update(pred_relatedness.squeeze(), relatedness_score)\n",
        "\n",
        "            pearson_corr = torchmetrics.PearsonCorrCoef().to(device)\n",
        "            pearson_corr.update(pred_relatedness.squeeze(), relatedness_score)\n",
        "\n",
        "            # 計算準確率和 F1 分數\n",
        "            acc = Accuracy(task=\"multiclass\", num_classes=3).to(device)\n",
        "            f1 = F1Score(task=\"multiclass\", num_classes=3, average='macro').to(device)\n",
        "\n",
        "            acc.update(pred_entailment, entailment_judgement)\n",
        "            f1.update(pred_entailment, entailment_judgement)\n",
        "\n",
        "        # 取得評估指標結果\n",
        "        spearman_score = spearman_corr.compute()\n",
        "        pearson_score = pearson_corr.compute()\n",
        "        accuracy_score = acc.compute()\n",
        "        f1_score = f1.compute()\n",
        "\n",
        "        # 輸出評估結果\n",
        "        print(f\"Validation Results - Epoch [{ep+1}/{epochs}]\")\n",
        "        print(f\"Spearman Correlation: {spearman_score:.4f}\")\n",
        "        print(f\"Pearson Correlation: {pearson_score:.4f}\")\n",
        "        print(f\"Accuracy: {accuracy_score:.4f}\")\n",
        "        print(f\"F1 Score: {f1_score:.4f}\")\n",
        "\n",
        "\n",
        "    torch.save(model, f'./content/save_models/ep{ep}.ckpt')"
      ]
    },
    {
      "cell_type": "code",
      "source": [
        "import os\n",
        "\n",
        "# 檢查目錄是否存在，不存在則創建\n",
        "save_dir = './content/save_models'\n",
        "os.makedirs(save_dir, exist_ok=True)"
      ],
      "metadata": {
        "id": "wECLAq1-oapp"
      },
      "execution_count": null,
      "outputs": []
    },
    {
      "cell_type": "markdown",
      "metadata": {
        "id": "rIIDQYjJFkpM"
      },
      "source": [
        "For test set predictions, you can write perform evaluation simlar to #TODO5."
      ]
    }
  ],
  "metadata": {
    "accelerator": "GPU",
    "colab": {
      "gpuType": "A100",
      "machine_shape": "hm",
      "provenance": [],
      "include_colab_link": true
    },
    "kernelspec": {
      "display_name": "Python 3",
      "name": "python3"
    },
    "language_info": {
      "codemirror_mode": {
        "name": "ipython",
        "version": 3
      },
      "file_extension": ".py",
      "mimetype": "text/x-python",
      "name": "python",
      "nbconvert_exporter": "python",
      "pygments_lexer": "ipython3",
      "version": "3.10.14"
    }
  },
  "nbformat": 4,
  "nbformat_minor": 0
}